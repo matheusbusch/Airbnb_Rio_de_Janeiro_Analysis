{
 "cells": [
  {
   "cell_type": "markdown",
   "metadata": {},
   "source": [
    "# Business Understanding"
   ]
  },
  {
   "cell_type": "markdown",
   "metadata": {},
   "source": [
    "Airbnb is an online marketplace that connects people who want to rent out their homes with people who are looking for accommodations in that locale. It currently covers more than 100,000 cities and 200 countries worldwide.\n",
    "In this business case, we are going to take a look at Rio de Janeiro Airbnb dataset and answer few questions about their  neighbourhoods, such as:\n",
    "\n",
    "    1. What is the Top 10 most expensive neighbourhoods?\n",
    "    2. What is the Top 10 most listed neighbourhoods and which one is the most expensive?\n",
    "    3. What is the Top 10 neighbourhoods with better review rating?\n",
    "    4. How are the listings distributed throughout Rio de Janeiro?\n"
   ]
  },
  {
   "cell_type": "markdown",
   "metadata": {},
   "source": [
    "# Data Understanding"
   ]
  },
  {
   "cell_type": "markdown",
   "metadata": {},
   "source": [
    "## Importing Library"
   ]
  },
  {
   "cell_type": "code",
   "execution_count": 1,
   "metadata": {},
   "outputs": [],
   "source": [
    "import pandas as pd\n",
    "import numpy as np\n",
    "import matplotlib.pyplot as plt\n",
    "import seaborn as sns\n",
    "import gmaps\n",
    "import gmaps.datasets\n",
    "%matplotlib inline"
   ]
  },
  {
   "cell_type": "markdown",
   "metadata": {},
   "source": [
    "## Loading the Data"
   ]
  },
  {
   "cell_type": "code",
   "execution_count": 2,
   "metadata": {},
   "outputs": [
    {
     "data": {
      "text/html": [
       "<div>\n",
       "<style scoped>\n",
       "    .dataframe tbody tr th:only-of-type {\n",
       "        vertical-align: middle;\n",
       "    }\n",
       "\n",
       "    .dataframe tbody tr th {\n",
       "        vertical-align: top;\n",
       "    }\n",
       "\n",
       "    .dataframe thead th {\n",
       "        text-align: right;\n",
       "    }\n",
       "</style>\n",
       "<table border=\"1\" class=\"dataframe\">\n",
       "  <thead>\n",
       "    <tr style=\"text-align: right;\">\n",
       "      <th></th>\n",
       "      <th>id</th>\n",
       "      <th>listing_url</th>\n",
       "      <th>scrape_id</th>\n",
       "      <th>last_scraped</th>\n",
       "      <th>name</th>\n",
       "      <th>description</th>\n",
       "      <th>neighborhood_overview</th>\n",
       "      <th>picture_url</th>\n",
       "      <th>host_id</th>\n",
       "      <th>host_url</th>\n",
       "      <th>...</th>\n",
       "      <th>review_scores_communication</th>\n",
       "      <th>review_scores_location</th>\n",
       "      <th>review_scores_value</th>\n",
       "      <th>license</th>\n",
       "      <th>instant_bookable</th>\n",
       "      <th>calculated_host_listings_count</th>\n",
       "      <th>calculated_host_listings_count_entire_homes</th>\n",
       "      <th>calculated_host_listings_count_private_rooms</th>\n",
       "      <th>calculated_host_listings_count_shared_rooms</th>\n",
       "      <th>reviews_per_month</th>\n",
       "    </tr>\n",
       "  </thead>\n",
       "  <tbody>\n",
       "    <tr>\n",
       "      <th>0</th>\n",
       "      <td>17878</td>\n",
       "      <td>https://www.airbnb.com/rooms/17878</td>\n",
       "      <td>20210222161029</td>\n",
       "      <td>2021-02-23</td>\n",
       "      <td>Very Nice 2Br in Copacabana w. balcony, fast WiFi</td>\n",
       "      <td>Discounts for long term stays. &lt;br /&gt;- Large b...</td>\n",
       "      <td>This is the one of the bests spots in Rio. Bec...</td>\n",
       "      <td>https://a0.muscache.com/pictures/65320518/3069...</td>\n",
       "      <td>68997</td>\n",
       "      <td>https://www.airbnb.com/users/show/68997</td>\n",
       "      <td>...</td>\n",
       "      <td>10.0</td>\n",
       "      <td>10.0</td>\n",
       "      <td>9.0</td>\n",
       "      <td>NaN</td>\n",
       "      <td>t</td>\n",
       "      <td>1</td>\n",
       "      <td>1</td>\n",
       "      <td>0</td>\n",
       "      <td>0</td>\n",
       "      <td>2.01</td>\n",
       "    </tr>\n",
       "    <tr>\n",
       "      <th>1</th>\n",
       "      <td>24480</td>\n",
       "      <td>https://www.airbnb.com/rooms/24480</td>\n",
       "      <td>20210222161029</td>\n",
       "      <td>2021-02-23</td>\n",
       "      <td>Nice and cozy near Ipanema Beach</td>\n",
       "      <td>My studio is located in the best  of Ipanema. ...</td>\n",
       "      <td>The beach, the lagoon, Ipanema is a great loca...</td>\n",
       "      <td>https://a0.muscache.com/pictures/11955612/b28e...</td>\n",
       "      <td>99249</td>\n",
       "      <td>https://www.airbnb.com/users/show/99249</td>\n",
       "      <td>...</td>\n",
       "      <td>10.0</td>\n",
       "      <td>10.0</td>\n",
       "      <td>9.0</td>\n",
       "      <td>NaN</td>\n",
       "      <td>f</td>\n",
       "      <td>1</td>\n",
       "      <td>1</td>\n",
       "      <td>0</td>\n",
       "      <td>0</td>\n",
       "      <td>0.67</td>\n",
       "    </tr>\n",
       "    <tr>\n",
       "      <th>2</th>\n",
       "      <td>25026</td>\n",
       "      <td>https://www.airbnb.com/rooms/25026</td>\n",
       "      <td>20210222161029</td>\n",
       "      <td>2021-02-23</td>\n",
       "      <td>Beautiful Modern Decorated Studio in Copa</td>\n",
       "      <td>Our apartment is a little gem, everyone loves ...</td>\n",
       "      <td>Copacabana is a lively neighborhood and the ap...</td>\n",
       "      <td>https://a0.muscache.com/pictures/3003965/68ebb...</td>\n",
       "      <td>3746246</td>\n",
       "      <td>https://www.airbnb.com/users/show/3746246</td>\n",
       "      <td>...</td>\n",
       "      <td>10.0</td>\n",
       "      <td>10.0</td>\n",
       "      <td>9.0</td>\n",
       "      <td>NaN</td>\n",
       "      <td>f</td>\n",
       "      <td>11</td>\n",
       "      <td>11</td>\n",
       "      <td>0</td>\n",
       "      <td>0</td>\n",
       "      <td>1.82</td>\n",
       "    </tr>\n",
       "    <tr>\n",
       "      <th>3</th>\n",
       "      <td>35636</td>\n",
       "      <td>https://www.airbnb.com/rooms/35636</td>\n",
       "      <td>20210222161029</td>\n",
       "      <td>2021-02-24</td>\n",
       "      <td>Cosy flat close to Ipanema beach</td>\n",
       "      <td>This cosy apartment  is just a few steps away ...</td>\n",
       "      <td>The  apartment street is very quiet and safe ....</td>\n",
       "      <td>https://a0.muscache.com/pictures/20009355/38b6...</td>\n",
       "      <td>153232</td>\n",
       "      <td>https://www.airbnb.com/users/show/153232</td>\n",
       "      <td>...</td>\n",
       "      <td>10.0</td>\n",
       "      <td>10.0</td>\n",
       "      <td>9.0</td>\n",
       "      <td>NaN</td>\n",
       "      <td>f</td>\n",
       "      <td>1</td>\n",
       "      <td>1</td>\n",
       "      <td>0</td>\n",
       "      <td>0</td>\n",
       "      <td>2.02</td>\n",
       "    </tr>\n",
       "    <tr>\n",
       "      <th>4</th>\n",
       "      <td>35764</td>\n",
       "      <td>https://www.airbnb.com/rooms/35764</td>\n",
       "      <td>20210222161029</td>\n",
       "      <td>2021-02-23</td>\n",
       "      <td>COPACABANA SEA BREEZE  -  RIO - 20 X Superhost</td>\n",
       "      <td>Our newly renovated studio is located in the b...</td>\n",
       "      <td>Our guests will experience living with a local...</td>\n",
       "      <td>https://a0.muscache.com/pictures/23782972/1d3e...</td>\n",
       "      <td>153691</td>\n",
       "      <td>https://www.airbnb.com/users/show/153691</td>\n",
       "      <td>...</td>\n",
       "      <td>10.0</td>\n",
       "      <td>10.0</td>\n",
       "      <td>10.0</td>\n",
       "      <td>NaN</td>\n",
       "      <td>f</td>\n",
       "      <td>1</td>\n",
       "      <td>1</td>\n",
       "      <td>0</td>\n",
       "      <td>0</td>\n",
       "      <td>2.79</td>\n",
       "    </tr>\n",
       "  </tbody>\n",
       "</table>\n",
       "<p>5 rows × 74 columns</p>\n",
       "</div>"
      ],
      "text/plain": [
       "      id                         listing_url       scrape_id last_scraped  \\\n",
       "0  17878  https://www.airbnb.com/rooms/17878  20210222161029   2021-02-23   \n",
       "1  24480  https://www.airbnb.com/rooms/24480  20210222161029   2021-02-23   \n",
       "2  25026  https://www.airbnb.com/rooms/25026  20210222161029   2021-02-23   \n",
       "3  35636  https://www.airbnb.com/rooms/35636  20210222161029   2021-02-24   \n",
       "4  35764  https://www.airbnb.com/rooms/35764  20210222161029   2021-02-23   \n",
       "\n",
       "                                                name  \\\n",
       "0  Very Nice 2Br in Copacabana w. balcony, fast WiFi   \n",
       "1                   Nice and cozy near Ipanema Beach   \n",
       "2          Beautiful Modern Decorated Studio in Copa   \n",
       "3                   Cosy flat close to Ipanema beach   \n",
       "4     COPACABANA SEA BREEZE  -  RIO - 20 X Superhost   \n",
       "\n",
       "                                         description  \\\n",
       "0  Discounts for long term stays. <br />- Large b...   \n",
       "1  My studio is located in the best  of Ipanema. ...   \n",
       "2  Our apartment is a little gem, everyone loves ...   \n",
       "3  This cosy apartment  is just a few steps away ...   \n",
       "4  Our newly renovated studio is located in the b...   \n",
       "\n",
       "                               neighborhood_overview  \\\n",
       "0  This is the one of the bests spots in Rio. Bec...   \n",
       "1  The beach, the lagoon, Ipanema is a great loca...   \n",
       "2  Copacabana is a lively neighborhood and the ap...   \n",
       "3  The  apartment street is very quiet and safe ....   \n",
       "4  Our guests will experience living with a local...   \n",
       "\n",
       "                                         picture_url  host_id  \\\n",
       "0  https://a0.muscache.com/pictures/65320518/3069...    68997   \n",
       "1  https://a0.muscache.com/pictures/11955612/b28e...    99249   \n",
       "2  https://a0.muscache.com/pictures/3003965/68ebb...  3746246   \n",
       "3  https://a0.muscache.com/pictures/20009355/38b6...   153232   \n",
       "4  https://a0.muscache.com/pictures/23782972/1d3e...   153691   \n",
       "\n",
       "                                    host_url  ... review_scores_communication  \\\n",
       "0    https://www.airbnb.com/users/show/68997  ...                        10.0   \n",
       "1    https://www.airbnb.com/users/show/99249  ...                        10.0   \n",
       "2  https://www.airbnb.com/users/show/3746246  ...                        10.0   \n",
       "3   https://www.airbnb.com/users/show/153232  ...                        10.0   \n",
       "4   https://www.airbnb.com/users/show/153691  ...                        10.0   \n",
       "\n",
       "  review_scores_location review_scores_value license instant_bookable  \\\n",
       "0                   10.0                 9.0     NaN                t   \n",
       "1                   10.0                 9.0     NaN                f   \n",
       "2                   10.0                 9.0     NaN                f   \n",
       "3                   10.0                 9.0     NaN                f   \n",
       "4                   10.0                10.0     NaN                f   \n",
       "\n",
       "  calculated_host_listings_count calculated_host_listings_count_entire_homes  \\\n",
       "0                              1                                           1   \n",
       "1                              1                                           1   \n",
       "2                             11                                          11   \n",
       "3                              1                                           1   \n",
       "4                              1                                           1   \n",
       "\n",
       "  calculated_host_listings_count_private_rooms  \\\n",
       "0                                            0   \n",
       "1                                            0   \n",
       "2                                            0   \n",
       "3                                            0   \n",
       "4                                            0   \n",
       "\n",
       "  calculated_host_listings_count_shared_rooms reviews_per_month  \n",
       "0                                           0              2.01  \n",
       "1                                           0              0.67  \n",
       "2                                           0              1.82  \n",
       "3                                           0              2.02  \n",
       "4                                           0              2.79  \n",
       "\n",
       "[5 rows x 74 columns]"
      ]
     },
     "execution_count": 2,
     "metadata": {},
     "output_type": "execute_result"
    }
   ],
   "source": [
    "df = pd.read_csv('listings.csv')\n",
    "df.head()"
   ]
  },
  {
   "cell_type": "code",
   "execution_count": 3,
   "metadata": {
    "scrolled": true
   },
   "outputs": [
    {
     "name": "stdout",
     "output_type": "stream",
     "text": [
      "<class 'pandas.core.frame.DataFrame'>\n",
      "RangeIndex: 26615 entries, 0 to 26614\n",
      "Data columns (total 74 columns):\n",
      " #   Column                                        Non-Null Count  Dtype  \n",
      "---  ------                                        --------------  -----  \n",
      " 0   id                                            26615 non-null  int64  \n",
      " 1   listing_url                                   26615 non-null  object \n",
      " 2   scrape_id                                     26615 non-null  int64  \n",
      " 3   last_scraped                                  26615 non-null  object \n",
      " 4   name                                          26586 non-null  object \n",
      " 5   description                                   25160 non-null  object \n",
      " 6   neighborhood_overview                         14314 non-null  object \n",
      " 7   picture_url                                   26615 non-null  object \n",
      " 8   host_id                                       26615 non-null  int64  \n",
      " 9   host_url                                      26615 non-null  object \n",
      " 10  host_name                                     26591 non-null  object \n",
      " 11  host_since                                    26591 non-null  object \n",
      " 12  host_location                                 26508 non-null  object \n",
      " 13  host_about                                    12895 non-null  object \n",
      " 14  host_response_time                            18599 non-null  object \n",
      " 15  host_response_rate                            18599 non-null  object \n",
      " 16  host_acceptance_rate                          17074 non-null  object \n",
      " 17  host_is_superhost                             26591 non-null  object \n",
      " 18  host_thumbnail_url                            26591 non-null  object \n",
      " 19  host_picture_url                              26591 non-null  object \n",
      " 20  host_neighbourhood                            15344 non-null  object \n",
      " 21  host_listings_count                           26591 non-null  float64\n",
      " 22  host_total_listings_count                     26591 non-null  float64\n",
      " 23  host_verifications                            26615 non-null  object \n",
      " 24  host_has_profile_pic                          26591 non-null  object \n",
      " 25  host_identity_verified                        26591 non-null  object \n",
      " 26  neighbourhood                                 14314 non-null  object \n",
      " 27  neighbourhood_cleansed                        26615 non-null  object \n",
      " 28  neighbourhood_group_cleansed                  0 non-null      float64\n",
      " 29  latitude                                      26615 non-null  float64\n",
      " 30  longitude                                     26615 non-null  float64\n",
      " 31  property_type                                 26615 non-null  object \n",
      " 32  room_type                                     26615 non-null  object \n",
      " 33  accommodates                                  26615 non-null  int64  \n",
      " 34  bathrooms                                     0 non-null      float64\n",
      " 35  bathrooms_text                                26543 non-null  object \n",
      " 36  bedrooms                                      24869 non-null  float64\n",
      " 37  beds                                          26363 non-null  float64\n",
      " 38  amenities                                     26615 non-null  object \n",
      " 39  price                                         26615 non-null  object \n",
      " 40  minimum_nights                                26615 non-null  int64  \n",
      " 41  maximum_nights                                26615 non-null  int64  \n",
      " 42  minimum_minimum_nights                        26531 non-null  float64\n",
      " 43  maximum_minimum_nights                        26531 non-null  float64\n",
      " 44  minimum_maximum_nights                        26531 non-null  float64\n",
      " 45  maximum_maximum_nights                        26531 non-null  float64\n",
      " 46  minimum_nights_avg_ntm                        26531 non-null  float64\n",
      " 47  maximum_nights_avg_ntm                        26531 non-null  float64\n",
      " 48  calendar_updated                              0 non-null      float64\n",
      " 49  has_availability                              26615 non-null  object \n",
      " 50  availability_30                               26615 non-null  int64  \n",
      " 51  availability_60                               26615 non-null  int64  \n",
      " 52  availability_90                               26615 non-null  int64  \n",
      " 53  availability_365                              26615 non-null  int64  \n",
      " 54  calendar_last_scraped                         26615 non-null  object \n",
      " 55  number_of_reviews                             26615 non-null  int64  \n",
      " 56  number_of_reviews_ltm                         26615 non-null  int64  \n",
      " 57  number_of_reviews_l30d                        26615 non-null  int64  \n",
      " 58  first_review                                  16657 non-null  object \n",
      " 59  last_review                                   16657 non-null  object \n",
      " 60  review_scores_rating                          16118 non-null  float64\n",
      " 61  review_scores_accuracy                        16104 non-null  float64\n",
      " 62  review_scores_cleanliness                     16107 non-null  float64\n",
      " 63  review_scores_checkin                         16106 non-null  float64\n",
      " 64  review_scores_communication                   16110 non-null  float64\n",
      " 65  review_scores_location                        16106 non-null  float64\n",
      " 66  review_scores_value                           16108 non-null  float64\n",
      " 67  license                                       0 non-null      float64\n",
      " 68  instant_bookable                              26615 non-null  object \n",
      " 69  calculated_host_listings_count                26615 non-null  int64  \n",
      " 70  calculated_host_listings_count_entire_homes   26615 non-null  int64  \n",
      " 71  calculated_host_listings_count_private_rooms  26615 non-null  int64  \n",
      " 72  calculated_host_listings_count_shared_rooms   26615 non-null  int64  \n",
      " 73  reviews_per_month                             16657 non-null  float64\n",
      "dtypes: float64(24), int64(17), object(33)\n",
      "memory usage: 15.0+ MB\n"
     ]
    }
   ],
   "source": [
    "df.info()"
   ]
  },
  {
   "cell_type": "code",
   "execution_count": 4,
   "metadata": {},
   "outputs": [
    {
     "data": {
      "text/plain": [
       "(26615, 74)"
      ]
     },
     "execution_count": 4,
     "metadata": {},
     "output_type": "execute_result"
    }
   ],
   "source": [
    "df.shape"
   ]
  },
  {
   "cell_type": "code",
   "execution_count": 5,
   "metadata": {},
   "outputs": [
    {
     "data": {
      "text/plain": [
       "(26615, 70)"
      ]
     },
     "execution_count": 5,
     "metadata": {},
     "output_type": "execute_result"
    }
   ],
   "source": [
    "# droping column with NaN value\n",
    "df.dropna(axis = 1, how = 'all', inplace = True)\n",
    "df.shape"
   ]
  },
  {
   "cell_type": "markdown",
   "metadata": {},
   "source": [
    "# Data Preparation"
   ]
  },
  {
   "cell_type": "code",
   "execution_count": 6,
   "metadata": {},
   "outputs": [
    {
     "data": {
      "text/plain": [
       "count     26615.000000\n",
       "mean        742.589254\n",
       "std        5368.868834\n",
       "min           0.000000\n",
       "25%         157.000000\n",
       "50%         280.000000\n",
       "75%         550.000000\n",
       "max      625216.000000\n",
       "Name: price, dtype: float64"
      ]
     },
     "execution_count": 6,
     "metadata": {},
     "output_type": "execute_result"
    }
   ],
   "source": [
    "# Change the dtype from price column\n",
    "df['price'] = df['price'].str.replace(',', '')\n",
    "df['price'] = df['price'].str.replace('$', '')\n",
    "df['price'] = df['price'].apply(pd.to_numeric)\n",
    "\n",
    "df['price'].describe()"
   ]
  },
  {
   "cell_type": "code",
   "execution_count": 7,
   "metadata": {},
   "outputs": [
    {
     "data": {
      "image/png": "[encoded data removed]",
      "text/plain": [
       "<Figure size 432x288 with 1 Axes>"
      ]
     },
     "metadata": {
      "needs_background": "light"
     },
     "output_type": "display_data"
    }
   ],
   "source": [
    "# Looking at price column column, we can see that we have a max value too high for the mean.\n",
    "# Let's take a look how the price is distributed.\n",
    "x = df['price']\n",
    "y = df['price']\n",
    "plt.scatter(x, y, alpha = 0.2)\n",
    "plt.show()"
   ]
  },
  {
   "cell_type": "code",
   "execution_count": 8,
   "metadata": {},
   "outputs": [
    {
     "data": {
      "image/png": "[encoded data removed]",
      "text/plain": [
       "<Figure size 504x360 with 1 Axes>"
      ]
     },
     "metadata": {
      "needs_background": "light"
     },
     "output_type": "display_data"
    }
   ],
   "source": [
    "# Let's see how price value counts is distributed\n",
    "from collections import Counter\n",
    "df_1 = Counter(df['price'])\n",
    "df_1 = pd.DataFrame.from_dict(df_1, orient='index').reset_index()\n",
    "df_1 = df_1.rename(columns={'index':'price', 0:'count'})\n",
    "\n",
    "x = df_1['count']\n",
    "y = df_1['price']\n",
    "plt.figure(figsize = (7, 5))\n",
    "plt.scatter(x, y, alpha = 0.2)\n",
    "plt.show()"
   ]
  },
  {
   "cell_type": "code",
   "execution_count": 9,
   "metadata": {},
   "outputs": [
    {
     "data": {
      "text/plain": [
       "count    26596.000000\n",
       "mean       635.407918\n",
       "std       1944.437780\n",
       "min          0.000000\n",
       "25%        157.000000\n",
       "50%        280.000000\n",
       "75%        550.000000\n",
       "max      55978.000000\n",
       "Name: price, dtype: float64"
      ]
     },
     "execution_count": 9,
     "metadata": {},
     "output_type": "execute_result"
    }
   ],
   "source": [
    "# Therefore, we will drop all the rows that has price greater than 100,000.\n",
    "new_df = df.drop(df[df['price'] > 100000].index)\n",
    "new_df['price'].describe()"
   ]
  },
  {
   "cell_type": "markdown",
   "metadata": {},
   "source": [
    "# Data Analysis"
   ]
  },
  {
   "cell_type": "markdown",
   "metadata": {},
   "source": [
    "## Question 1 - What is the Top 10 neighbourhood most expensive?"
   ]
  },
  {
   "cell_type": "code",
   "execution_count": 10,
   "metadata": {},
   "outputs": [
    {
     "data": {
      "text/plain": [
       "count     151.000000\n",
       "mean      176.132450\n",
       "std       719.927947\n",
       "min         1.000000\n",
       "25%         5.000000\n",
       "50%        12.000000\n",
       "75%        56.500000\n",
       "max      7703.000000\n",
       "Name: neighbourhood_cleansed, dtype: float64"
      ]
     },
     "execution_count": 10,
     "metadata": {},
     "output_type": "execute_result"
    }
   ],
   "source": [
    "# Count values from neighbourhood cleansed column\n",
    "count_nc = new_df['neighbourhood_cleansed'].value_counts()\n",
    "count_nc.describe()"
   ]
  },
  {
   "cell_type": "code",
   "execution_count": 11,
   "metadata": {},
   "outputs": [
    {
     "data": {
      "text/html": [
       "<div>\n",
       "<style scoped>\n",
       "    .dataframe tbody tr th:only-of-type {\n",
       "        vertical-align: middle;\n",
       "    }\n",
       "\n",
       "    .dataframe tbody tr th {\n",
       "        vertical-align: top;\n",
       "    }\n",
       "\n",
       "    .dataframe thead th {\n",
       "        text-align: right;\n",
       "    }\n",
       "</style>\n",
       "<table border=\"1\" class=\"dataframe\">\n",
       "  <thead>\n",
       "    <tr style=\"text-align: right;\">\n",
       "      <th></th>\n",
       "      <th>Neighbourhoods</th>\n",
       "      <th>Mean price</th>\n",
       "    </tr>\n",
       "  </thead>\n",
       "  <tbody>\n",
       "    <tr>\n",
       "      <th>São Conrado</th>\n",
       "      <td>226</td>\n",
       "      <td>2435.853982</td>\n",
       "    </tr>\n",
       "    <tr>\n",
       "      <th>Itanhangá</th>\n",
       "      <td>137</td>\n",
       "      <td>1104.007299</td>\n",
       "    </tr>\n",
       "    <tr>\n",
       "      <th>Lagoa</th>\n",
       "      <td>261</td>\n",
       "      <td>1043.513410</td>\n",
       "    </tr>\n",
       "    <tr>\n",
       "      <th>Barra da Tijuca</th>\n",
       "      <td>2722</td>\n",
       "      <td>891.009552</td>\n",
       "    </tr>\n",
       "    <tr>\n",
       "      <th>Leblon</th>\n",
       "      <td>1165</td>\n",
       "      <td>853.823176</td>\n",
       "    </tr>\n",
       "    <tr>\n",
       "      <th>Vargem Pequena</th>\n",
       "      <td>117</td>\n",
       "      <td>828.350427</td>\n",
       "    </tr>\n",
       "    <tr>\n",
       "      <th>Gávea</th>\n",
       "      <td>194</td>\n",
       "      <td>827.500000</td>\n",
       "    </tr>\n",
       "    <tr>\n",
       "      <th>Recreio dos Bandeirantes</th>\n",
       "      <td>1179</td>\n",
       "      <td>748.118745</td>\n",
       "    </tr>\n",
       "    <tr>\n",
       "      <th>Jardim Botânico</th>\n",
       "      <td>204</td>\n",
       "      <td>713.563725</td>\n",
       "    </tr>\n",
       "    <tr>\n",
       "      <th>Taquara</th>\n",
       "      <td>119</td>\n",
       "      <td>707.252101</td>\n",
       "    </tr>\n",
       "  </tbody>\n",
       "</table>\n",
       "</div>"
      ],
      "text/plain": [
       "                          Neighbourhoods   Mean price\n",
       "São Conrado                          226  2435.853982\n",
       "Itanhangá                            137  1104.007299\n",
       "Lagoa                                261  1043.513410\n",
       "Barra da Tijuca                     2722   891.009552\n",
       "Leblon                              1165   853.823176\n",
       "Vargem Pequena                       117   828.350427\n",
       "Gávea                                194   827.500000\n",
       "Recreio dos Bandeirantes            1179   748.118745\n",
       "Jardim Botânico                      204   713.563725\n",
       "Taquara                              119   707.252101"
      ]
     },
     "execution_count": 11,
     "metadata": {},
     "output_type": "execute_result"
    }
   ],
   "source": [
    "# Creating dataframe for neighbourhood and their mean prices.\n",
    "## We will consider only neighbourhoods that is listed over than 100.\n",
    "## With that in mind, We will disconsider neighbourhoods that can possibly have a high mean price, \n",
    "## but we need to have a high amount of data for that neighbourhood to be considered.\n",
    "df_2 = pd.DataFrame({\"Neighbourhoods\" : count_nc,\n",
    "                   \"Mean price\" : new_df.groupby(['neighbourhood_cleansed'])['price'].mean()\n",
    "                   })\n",
    "df_2 = df_2.sort_values(by = ['Neighbourhoods'], ascending = False)\n",
    "df_2 = df_2[df_2.Neighbourhoods >= 100]\n",
    "df_2 = df_2.sort_values(by = ['Mean price'], ascending = False)\n",
    "df_2 = df_2[:10]\n",
    "df_2"
   ]
  },
  {
   "cell_type": "code",
   "execution_count": 27,
   "metadata": {},
   "outputs": [
    {
     "data": {
      "image/png": "[encoded data removed]",
      "text/plain": [
       "<Figure size 864x432 with 1 Axes>"
      ]
     },
     "metadata": {
      "needs_background": "light"
     },
     "output_type": "display_data"
    }
   ],
   "source": [
    "# Create the plot\n",
    "fig = plt.figure(figsize = (12, 6))\n",
    "ax = fig.add_subplot(1, 1, 1, aspect='auto')\n",
    "sns.barplot(x = df_2['Mean price'] , y = df_2.index[:10], data = df_2, palette = 'Blues_r')\n",
    "ax.set_xlabel('Mean price (R$)', weight='normal', size=10)\n",
    "plt.title('Top 10 most expensive neighbourhoods', fontsize=20)\n",
    "ax.tick_params('x', labelsize=10)\n",
    "ax.tick_params('y', labelsize=10)\n",
    "plt.show()"
   ]
  },
  {
   "cell_type": "markdown",
   "metadata": {},
   "source": [
    "## Question 2 - What is the Top 10 neighbourhood most listed and which one is the most expensive?"
   ]
  },
  {
   "cell_type": "code",
   "execution_count": 13,
   "metadata": {},
   "outputs": [
    {
     "data": {
      "text/plain": [
       "Copacabana                  7703\n",
       "Barra da Tijuca             2722\n",
       "Ipanema                     2571\n",
       "Jacarepaguá                 1335\n",
       "Botafogo                    1220\n",
       "Recreio dos Bandeirantes    1179\n",
       "Leblon                      1165\n",
       "Santa Teresa                 881\n",
       "Centro                       773\n",
       "Flamengo                     612\n",
       "Name: neighbourhood_cleansed, dtype: int64"
      ]
     },
     "execution_count": 13,
     "metadata": {},
     "output_type": "execute_result"
    }
   ],
   "source": [
    "# Creating Series for top 10 neighbourhoods most listed\n",
    "count_nc.sort_values(ascending = False)[:10]"
   ]
  },
  {
   "cell_type": "code",
   "execution_count": 28,
   "metadata": {},
   "outputs": [
    {
     "data": {
      "image/png": "[encoded data removed]",
      "text/plain": [
       "<Figure size 864x432 with 1 Axes>"
      ]
     },
     "metadata": {
      "needs_background": "light"
     },
     "output_type": "display_data"
    }
   ],
   "source": [
    "# Create the plot\n",
    "fig = plt.figure(figsize = (12, 6))\n",
    "ax = fig.add_subplot(1, 1, 1, aspect='auto')\n",
    "sns.barplot(x = count_nc.values[:10], y = count_nc.index[:10],palette = 'Blues_r')\n",
    "ax.set_xlabel('Listings', weight='normal', size=10)\n",
    "plt.title('Top 10 most listed neighbourhoods', fontsize=20)\n",
    "ax.tick_params('x', labelsize=10)\n",
    "ax.tick_params('y', labelsize=10)\n",
    "plt.show()"
   ]
  },
  {
   "cell_type": "code",
   "execution_count": 30,
   "metadata": {},
   "outputs": [
    {
     "data": {
      "text/html": [
       "<div>\n",
       "<style scoped>\n",
       "    .dataframe tbody tr th:only-of-type {\n",
       "        vertical-align: middle;\n",
       "    }\n",
       "\n",
       "    .dataframe tbody tr th {\n",
       "        vertical-align: top;\n",
       "    }\n",
       "\n",
       "    .dataframe thead th {\n",
       "        text-align: right;\n",
       "    }\n",
       "</style>\n",
       "<table border=\"1\" class=\"dataframe\">\n",
       "  <thead>\n",
       "    <tr style=\"text-align: right;\">\n",
       "      <th></th>\n",
       "      <th>Neighbourhoods</th>\n",
       "      <th>Mean price</th>\n",
       "    </tr>\n",
       "  </thead>\n",
       "  <tbody>\n",
       "    <tr>\n",
       "      <th>Barra da Tijuca</th>\n",
       "      <td>2722</td>\n",
       "      <td>891.009552</td>\n",
       "    </tr>\n",
       "    <tr>\n",
       "      <th>Leblon</th>\n",
       "      <td>1165</td>\n",
       "      <td>853.823176</td>\n",
       "    </tr>\n",
       "    <tr>\n",
       "      <th>Recreio dos Bandeirantes</th>\n",
       "      <td>1179</td>\n",
       "      <td>748.118745</td>\n",
       "    </tr>\n",
       "    <tr>\n",
       "      <th>Ipanema</th>\n",
       "      <td>2571</td>\n",
       "      <td>697.608713</td>\n",
       "    </tr>\n",
       "    <tr>\n",
       "      <th>Santa Teresa</th>\n",
       "      <td>881</td>\n",
       "      <td>661.775255</td>\n",
       "    </tr>\n",
       "    <tr>\n",
       "      <th>Jacarepaguá</th>\n",
       "      <td>1335</td>\n",
       "      <td>619.527341</td>\n",
       "    </tr>\n",
       "    <tr>\n",
       "      <th>Copacabana</th>\n",
       "      <td>7703</td>\n",
       "      <td>541.409711</td>\n",
       "    </tr>\n",
       "    <tr>\n",
       "      <th>Flamengo</th>\n",
       "      <td>612</td>\n",
       "      <td>385.697712</td>\n",
       "    </tr>\n",
       "    <tr>\n",
       "      <th>Botafogo</th>\n",
       "      <td>1220</td>\n",
       "      <td>375.119672</td>\n",
       "    </tr>\n",
       "    <tr>\n",
       "      <th>Centro</th>\n",
       "      <td>773</td>\n",
       "      <td>306.793014</td>\n",
       "    </tr>\n",
       "  </tbody>\n",
       "</table>\n",
       "</div>"
      ],
      "text/plain": [
       "                          Neighbourhoods  Mean price\n",
       "Barra da Tijuca                     2722  891.009552\n",
       "Leblon                              1165  853.823176\n",
       "Recreio dos Bandeirantes            1179  748.118745\n",
       "Ipanema                             2571  697.608713\n",
       "Santa Teresa                         881  661.775255\n",
       "Jacarepaguá                         1335  619.527341\n",
       "Copacabana                          7703  541.409711\n",
       "Flamengo                             612  385.697712\n",
       "Botafogo                            1220  375.119672\n",
       "Centro                               773  306.793014"
      ]
     },
     "execution_count": 30,
     "metadata": {},
     "output_type": "execute_result"
    }
   ],
   "source": [
    "# Creating Dataframe for top 10 neighbourhoods most listed mean price\n",
    "df_3 = pd.DataFrame({\"Neighbourhoods\" : count_nc,\n",
    "                   \"Mean price\" : new_df.groupby(['neighbourhood_cleansed'])['price'].mean()\n",
    "                   })\n",
    "\n",
    "df_3 = df_3.sort_values(by = ['Neighbourhoods'], ascending = False)\n",
    "df_3 = df_3[:10]\n",
    "df_3 = df_3.sort_values(by = ['Mean price'], ascending = False)\n",
    "df_3"
   ]
  },
  {
   "cell_type": "code",
   "execution_count": 31,
   "metadata": {},
   "outputs": [
    {
     "data": {
      "image/png": "[encoded data removed]",
      "text/plain": [
       "<Figure size 864x432 with 1 Axes>"
      ]
     },
     "metadata": {
      "needs_background": "light"
     },
     "output_type": "display_data"
    }
   ],
   "source": [
    "# Create the plot\n",
    "fig = plt.figure(figsize = (12, 6))\n",
    "ax = fig.add_subplot(1, 1, 1, aspect='auto')\n",
    "sns.barplot(x = df_3['Mean price'] , y = df_3.index[:10], data = df_2, palette = 'Blues_r')\n",
    "ax.set_xlabel('Mean price (R$)', weight='normal', size=10)\n",
    "plt.title('Top 10 most listed neighbourhoods mean price', fontsize=20)\n",
    "ax.tick_params('x', labelsize=10)\n",
    "ax.tick_params('y', labelsize=10)\n",
    "plt.show()"
   ]
  },
  {
   "cell_type": "markdown",
   "metadata": {},
   "source": [
    "## Question 3 - What is the Top 10 neighbourhood with better review rating?"
   ]
  },
  {
   "cell_type": "code",
   "execution_count": 17,
   "metadata": {},
   "outputs": [
    {
     "data": {
      "text/plain": [
       "0        94.0\n",
       "1        95.0\n",
       "2        94.0\n",
       "3        94.0\n",
       "4        98.0\n",
       "         ... \n",
       "26610     NaN\n",
       "26611     NaN\n",
       "26612     NaN\n",
       "26613     NaN\n",
       "26614     NaN\n",
       "Name: review_scores_rating, Length: 26596, dtype: float64"
      ]
     },
     "execution_count": 17,
     "metadata": {},
     "output_type": "execute_result"
    }
   ],
   "source": [
    "# understangin review scores rating column\n",
    "new_df['review_scores_rating']"
   ]
  },
  {
   "cell_type": "code",
   "execution_count": 18,
   "metadata": {},
   "outputs": [
    {
     "data": {
      "text/plain": [
       "0         94.0\n",
       "1         95.0\n",
       "2         94.0\n",
       "3         94.0\n",
       "4         98.0\n",
       "         ...  \n",
       "26419    100.0\n",
       "26427    100.0\n",
       "26430    100.0\n",
       "26442    100.0\n",
       "26460    100.0\n",
       "Name: review_scores_rating, Length: 16112, dtype: float64"
      ]
     },
     "execution_count": 18,
     "metadata": {},
     "output_type": "execute_result"
    }
   ],
   "source": [
    "# droping null value review scores rating column\n",
    "new_df_2 = new_df.dropna(subset = ['review_scores_rating'])\n",
    "new_df_2['review_scores_rating']"
   ]
  },
  {
   "cell_type": "code",
   "execution_count": 19,
   "metadata": {},
   "outputs": [
    {
     "name": "stdout",
     "output_type": "stream",
     "text": [
      "Mean score: 4.728829443892736.\n",
      "Max score: 5.0.\n",
      "Min score: 1.0.\n"
     ]
    },
    {
     "name": "stderr",
     "output_type": "stream",
     "text": [
      "<ipython-input-19-f15bf61a32c6>:3: SettingWithCopyWarning: \n",
      "A value is trying to be set on a copy of a slice from a DataFrame.\n",
      "Try using .loc[row_indexer,col_indexer] = value instead\n",
      "\n",
      "See the caveats in the documentation: https://pandas.pydata.org/pandas-docs/stable/user_guide/indexing.html#returning-a-view-versus-a-copy\n",
      "  new_df_2['new_review_scores_rating'] = new_df_2['review_scores_rating']/20\n"
     ]
    }
   ],
   "source": [
    "# airbnb displays in their website different range for review scores rating. It works from 0 to 5.\n",
    "# Therefore, we will create a new column that transforms review scores rating column to this range.\n",
    "new_df_2['new_review_scores_rating'] = new_df_2['review_scores_rating']/20\n",
    "print('Mean score: {}.'.format(new_df_2['new_review_scores_rating'].mean()))\n",
    "print('Max score: {}.'.format(new_df_2['new_review_scores_rating'].max()))\n",
    "print('Min score: {}.'.format(new_df_2['new_review_scores_rating'].min()))"
   ]
  },
  {
   "cell_type": "code",
   "execution_count": 20,
   "metadata": {},
   "outputs": [
    {
     "data": {
      "text/plain": [
       "neighbourhood_cleansed\n",
       "Vista Alegre            5.000000\n",
       "Sepetiba                5.000000\n",
       "Bancários               5.000000\n",
       "Cacuia                  5.000000\n",
       "Campinho                5.000000\n",
       "                          ...   \n",
       "Pedra de Guaratiba      3.687500\n",
       "Santíssimo              3.666667\n",
       "Rocha                   3.462500\n",
       "Piedade                 2.500000\n",
       "Cidade Universitária    1.500000\n",
       "Name: new_review_scores_rating, Length: 132, dtype: float64"
      ]
     },
     "execution_count": 20,
     "metadata": {},
     "output_type": "execute_result"
    }
   ],
   "source": [
    "# Mean score for each neighbourhood\n",
    "new_df_2.groupby(['neighbourhood_cleansed'])['new_review_scores_rating'].mean().sort_values(ascending=False)"
   ]
  },
  {
   "cell_type": "code",
   "execution_count": 21,
   "metadata": {},
   "outputs": [
    {
     "data": {
      "text/plain": [
       "count    16112.000000\n",
       "mean        20.017751\n",
       "std         36.078536\n",
       "min          1.000000\n",
       "25%          2.000000\n",
       "50%          6.000000\n",
       "75%         20.000000\n",
       "max        446.000000\n",
       "Name: number_of_reviews, dtype: float64"
      ]
     },
     "execution_count": 21,
     "metadata": {},
     "output_type": "execute_result"
    }
   ],
   "source": [
    "new_df_2['number_of_reviews'].describe()"
   ]
  },
  {
   "cell_type": "code",
   "execution_count": 22,
   "metadata": {},
   "outputs": [
    {
     "data": {
      "text/plain": [
       "count    6426.000000\n",
       "mean       45.110489\n",
       "std        46.988419\n",
       "min        10.000000\n",
       "25%        15.000000\n",
       "50%        27.000000\n",
       "75%        56.000000\n",
       "max       446.000000\n",
       "Name: number_of_reviews, dtype: float64"
      ]
     },
     "execution_count": 22,
     "metadata": {},
     "output_type": "execute_result"
    }
   ],
   "source": [
    "# Creating dataframe for neighbourhood and their mean scores.\n",
    "# We will consider only neighbourhoods that has 10 or more number of reviews and 100 or more lists.\n",
    "new_df_3 = new_df_2.drop(new_df_2[new_df_2.number_of_reviews < 10].index)\n",
    "new_df_3['number_of_reviews'].describe()"
   ]
  },
  {
   "cell_type": "code",
   "execution_count": 23,
   "metadata": {},
   "outputs": [
    {
     "data": {
      "text/plain": [
       "neighbourhood_cleansed\n",
       "Inhaúma              5.0000\n",
       "Todos os Santos      5.0000\n",
       "Méier                5.0000\n",
       "Magalhães Bastos     5.0000\n",
       "Santíssimo           5.0000\n",
       "                      ...  \n",
       "Rio Comprido         4.6125\n",
       "Santa Cruz           4.6000\n",
       "Grajaú               4.6000\n",
       "Engenho de Dentro    4.6000\n",
       "Penha Circular       4.0000\n",
       "Name: new_review_scores_rating, Length: 90, dtype: float64"
      ]
     },
     "execution_count": 23,
     "metadata": {},
     "output_type": "execute_result"
    }
   ],
   "source": [
    "rsr = new_df_3.groupby(['neighbourhood_cleansed'])['new_review_scores_rating'].mean().sort_values(ascending=False)\n",
    "rsr"
   ]
  },
  {
   "cell_type": "code",
   "execution_count": 24,
   "metadata": {},
   "outputs": [
    {
     "data": {
      "text/plain": [
       "Jacarepaguá                 4.818905\n",
       "Recreio dos Bandeirantes    4.810714\n",
       "Centro                      4.796392\n",
       "Leblon                      4.793973\n",
       "Santa Teresa                4.793902\n",
       "Botafogo                    4.788889\n",
       "Barra da Tijuca             4.785614\n",
       "Flamengo                    4.779930\n",
       "Ipanema                     4.764286\n",
       "Copacabana                  4.757005\n",
       "Name: Review Score Rating, dtype: float64"
      ]
     },
     "execution_count": 24,
     "metadata": {},
     "output_type": "execute_result"
    }
   ],
   "source": [
    "# Creating Dataframe for top 10 neighbourhoods with higher review score\n",
    "df_3 = pd.DataFrame({\"Neighbourhoods\" : count_nc,\n",
    "                   \"Review Score Rating\" : new_df_3.groupby(['neighbourhood_cleansed'])['new_review_scores_rating'].mean()\n",
    "                   })\n",
    "\n",
    "df_3 = df_3.sort_values(by = ['Neighbourhoods'], ascending = False)\n",
    "df_3 = df_3[:10]\n",
    "df_3 = df_3.sort_values(by = ['Review Score Rating'], ascending = False)\n",
    "df_3['Review Score Rating']"
   ]
  },
  {
   "cell_type": "code",
   "execution_count": 25,
   "metadata": {},
   "outputs": [
    {
     "data": {
      "image/png": "[encoded data removed]",
      "text/plain": [
       "<Figure size 864x432 with 1 Axes>"
      ]
     },
     "metadata": {
      "needs_background": "light"
     },
     "output_type": "display_data"
    }
   ],
   "source": [
    "# Create the plot\n",
    "fig = plt.figure(figsize = (12, 6))\n",
    "ax = fig.add_subplot(1, 1, 1, aspect='auto')\n",
    "ax = sns.barplot(x = df_3['Review Score Rating'] , y = df_3.index[:10], data = df_3, palette = 'Blues_r')\n",
    "ax.set_xlabel('Review', weight='normal', size=10)\n",
    "plt.title('Top 10 neighbourhoods with better review', fontsize=20)\n",
    "ax.tick_params('x', labelsize=10)\n",
    "ax.tick_params('y', labelsize=10)\n",
    "ax.set(xlim=(4, 5))   \n",
    "plt.show()"
   ]
  },
  {
   "cell_type": "markdown",
   "metadata": {},
   "source": [
    " ## Question 4 - How are the listings distributed throughout Rio de Janeiro?"
   ]
  },
  {
   "cell_type": "code",
   "execution_count": 26,
   "metadata": {},
   "outputs": [
    {
     "data": {
      "application/vnd.jupyter.widget-view+json": {
       "model_id": "e4a7e8c78a9c40be81e2f9a6e9cca5ca",
       "version_major": 2,
       "version_minor": 0
      },
      "text/plain": [
       "Figure(layout=FigureLayout(height='420px'))"
      ]
     },
     "metadata": {},
     "output_type": "display_data"
    }
   ],
   "source": [
    "gmaps.configure(api_key = '...') #insert your API Key.\n",
    "locations = df[['latitude', 'longitude']]\n",
    "fig = gmaps.figure()\n",
    "fig.add_layer(gmaps.heatmap_layer(locations))\n",
    "fig"
   ]
  }
 ],
 "metadata": {
  "kernelspec": {
   "display_name": "Python 3",
   "language": "python",
   "name": "python3"
  },
  "language_info": {
   "codemirror_mode": {
    "name": "ipython",
    "version": 3
   },
   "file_extension": ".py",
   "mimetype": "text/x-python",
   "name": "python",
   "nbconvert_exporter": "python",
   "pygments_lexer": "ipython3",
   "version": "3.8.5"
  }
 },
 "nbformat": 4,
 "nbformat_minor": 4
}
